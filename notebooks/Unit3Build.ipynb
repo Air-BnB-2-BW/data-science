{
  "nbformat": 4,
  "nbformat_minor": 0,
  "metadata": {
    "colab": {
      "name": "Unit3Build.ipynb",
      "provenance": [],
      "collapsed_sections": []
    },
    "kernelspec": {
      "name": "python3",
      "display_name": "Python 3"
    }
  },
  "cells": [
    {
      "cell_type": "markdown",
      "metadata": {
        "id": "Id5pvzqKnCoL",
        "colab_type": "text"
      },
      "source": [
        "### EDA"
      ]
    },
    {
      "cell_type": "code",
      "metadata": {
        "id": "Dch9dXvUnFfq",
        "colab_type": "code",
        "colab": {}
      },
      "source": [
        "%%capture\n",
        "import sys\n",
        "\n",
        "# If you're on Colab:\n",
        "if 'google.colab' in sys.modules:\n",
        "    DATA_PATH = 'https://raw.githubusercontent.com/Air-BnB-2-BW/data-science/master/airbnb_bw.csv'"
      ],
      "execution_count": 40,
      "outputs": []
    },
    {
      "cell_type": "code",
      "metadata": {
        "id": "U5y7m63DX3Sb",
        "colab_type": "code",
        "colab": {
          "base_uri": "https://localhost:8080/",
          "height": 436
        },
        "outputId": "c6053846-0c8a-4dc8-a7c1-77e984d3e5be"
      },
      "source": [
        "import pandas as pd\n",
        "\n",
        "df = pd.read_csv(DATA_PATH, index_col=0)\n",
        "\n",
        "print(df.shape)\n",
        "\n",
        "df"
      ],
      "execution_count": null,
      "outputs": [
        {
          "output_type": "stream",
          "text": [
            "(972, 13)\n"
          ],
          "name": "stdout"
        },
        {
          "output_type": "execute_result",
          "data": {
            "text/html": [
              "<div>\n",
              "<style scoped>\n",
              "    .dataframe tbody tr th:only-of-type {\n",
              "        vertical-align: middle;\n",
              "    }\n",
              "\n",
              "    .dataframe tbody tr th {\n",
              "        vertical-align: top;\n",
              "    }\n",
              "\n",
              "    .dataframe thead th {\n",
              "        text-align: right;\n",
              "    }\n",
              "</style>\n",
              "<table border=\"1\" class=\"dataframe\">\n",
              "  <thead>\n",
              "    <tr style=\"text-align: right;\">\n",
              "      <th></th>\n",
              "      <th>Zipcode</th>\n",
              "      <th>Square Feet</th>\n",
              "      <th>Bedrooms</th>\n",
              "      <th>Bathrooms</th>\n",
              "      <th>Review Scores Rating</th>\n",
              "      <th>Accommodates</th>\n",
              "      <th>Cleaning Fee</th>\n",
              "      <th>Free Parking</th>\n",
              "      <th>Wireless Internet</th>\n",
              "      <th>Cable TV</th>\n",
              "      <th>Prop_encoded</th>\n",
              "      <th>cancel_encoded</th>\n",
              "      <th>Price</th>\n",
              "    </tr>\n",
              "  </thead>\n",
              "  <tbody>\n",
              "    <tr>\n",
              "      <th>0</th>\n",
              "      <td>78704.0</td>\n",
              "      <td>500.0</td>\n",
              "      <td>1.0</td>\n",
              "      <td>1.0</td>\n",
              "      <td>97.0</td>\n",
              "      <td>2.0</td>\n",
              "      <td>25.0</td>\n",
              "      <td>1.0</td>\n",
              "      <td>1.0</td>\n",
              "      <td>1.0</td>\n",
              "      <td>1.0</td>\n",
              "      <td>2.0</td>\n",
              "      <td>85.0</td>\n",
              "    </tr>\n",
              "    <tr>\n",
              "      <th>22</th>\n",
              "      <td>78746.0</td>\n",
              "      <td>2800.0</td>\n",
              "      <td>4.0</td>\n",
              "      <td>2.5</td>\n",
              "      <td>99.0</td>\n",
              "      <td>8.0</td>\n",
              "      <td>300.0</td>\n",
              "      <td>1.0</td>\n",
              "      <td>1.0</td>\n",
              "      <td>1.0</td>\n",
              "      <td>1.0</td>\n",
              "      <td>2.0</td>\n",
              "      <td>499.0</td>\n",
              "    </tr>\n",
              "    <tr>\n",
              "      <th>108</th>\n",
              "      <td>78741.0</td>\n",
              "      <td>1600.0</td>\n",
              "      <td>1.0</td>\n",
              "      <td>1.5</td>\n",
              "      <td>100.0</td>\n",
              "      <td>4.0</td>\n",
              "      <td>100.0</td>\n",
              "      <td>1.0</td>\n",
              "      <td>1.0</td>\n",
              "      <td>1.0</td>\n",
              "      <td>1.0</td>\n",
              "      <td>0.0</td>\n",
              "      <td>450.0</td>\n",
              "    </tr>\n",
              "    <tr>\n",
              "      <th>109</th>\n",
              "      <td>78722.0</td>\n",
              "      <td>900.0</td>\n",
              "      <td>1.0</td>\n",
              "      <td>1.0</td>\n",
              "      <td>80.0</td>\n",
              "      <td>2.0</td>\n",
              "      <td>50.0</td>\n",
              "      <td>1.0</td>\n",
              "      <td>1.0</td>\n",
              "      <td>0.0</td>\n",
              "      <td>1.0</td>\n",
              "      <td>2.0</td>\n",
              "      <td>150.0</td>\n",
              "    </tr>\n",
              "    <tr>\n",
              "      <th>122</th>\n",
              "      <td>78702.0</td>\n",
              "      <td>2700.0</td>\n",
              "      <td>3.0</td>\n",
              "      <td>2.0</td>\n",
              "      <td>97.0</td>\n",
              "      <td>8.0</td>\n",
              "      <td>100.0</td>\n",
              "      <td>0.0</td>\n",
              "      <td>1.0</td>\n",
              "      <td>1.0</td>\n",
              "      <td>1.0</td>\n",
              "      <td>2.0</td>\n",
              "      <td>275.0</td>\n",
              "    </tr>\n",
              "    <tr>\n",
              "      <th>...</th>\n",
              "      <td>...</td>\n",
              "      <td>...</td>\n",
              "      <td>...</td>\n",
              "      <td>...</td>\n",
              "      <td>...</td>\n",
              "      <td>...</td>\n",
              "      <td>...</td>\n",
              "      <td>...</td>\n",
              "      <td>...</td>\n",
              "      <td>...</td>\n",
              "      <td>...</td>\n",
              "      <td>...</td>\n",
              "      <td>...</td>\n",
              "    </tr>\n",
              "    <tr>\n",
              "      <th>120258</th>\n",
              "      <td>78704.0</td>\n",
              "      <td>1810.0</td>\n",
              "      <td>3.0</td>\n",
              "      <td>2.0</td>\n",
              "      <td>93.0</td>\n",
              "      <td>6.0</td>\n",
              "      <td>180.0</td>\n",
              "      <td>1.0</td>\n",
              "      <td>1.0</td>\n",
              "      <td>1.0</td>\n",
              "      <td>1.0</td>\n",
              "      <td>0.0</td>\n",
              "      <td>499.0</td>\n",
              "    </tr>\n",
              "    <tr>\n",
              "      <th>120281</th>\n",
              "      <td>78704.0</td>\n",
              "      <td>2100.0</td>\n",
              "      <td>4.0</td>\n",
              "      <td>3.0</td>\n",
              "      <td>99.0</td>\n",
              "      <td>8.0</td>\n",
              "      <td>150.0</td>\n",
              "      <td>1.0</td>\n",
              "      <td>1.0</td>\n",
              "      <td>1.0</td>\n",
              "      <td>1.0</td>\n",
              "      <td>2.0</td>\n",
              "      <td>800.0</td>\n",
              "    </tr>\n",
              "    <tr>\n",
              "      <th>120466</th>\n",
              "      <td>78701.0</td>\n",
              "      <td>1094.0</td>\n",
              "      <td>2.0</td>\n",
              "      <td>1.5</td>\n",
              "      <td>100.0</td>\n",
              "      <td>6.0</td>\n",
              "      <td>100.0</td>\n",
              "      <td>0.0</td>\n",
              "      <td>1.0</td>\n",
              "      <td>1.0</td>\n",
              "      <td>1.0</td>\n",
              "      <td>2.0</td>\n",
              "      <td>899.0</td>\n",
              "    </tr>\n",
              "    <tr>\n",
              "      <th>120500</th>\n",
              "      <td>78722.0</td>\n",
              "      <td>600.0</td>\n",
              "      <td>1.0</td>\n",
              "      <td>1.0</td>\n",
              "      <td>98.0</td>\n",
              "      <td>2.0</td>\n",
              "      <td>69.0</td>\n",
              "      <td>1.0</td>\n",
              "      <td>1.0</td>\n",
              "      <td>0.0</td>\n",
              "      <td>1.0</td>\n",
              "      <td>2.0</td>\n",
              "      <td>79.0</td>\n",
              "    </tr>\n",
              "    <tr>\n",
              "      <th>120781</th>\n",
              "      <td>78704.0</td>\n",
              "      <td>1532.0</td>\n",
              "      <td>2.0</td>\n",
              "      <td>2.5</td>\n",
              "      <td>100.0</td>\n",
              "      <td>4.0</td>\n",
              "      <td>125.0</td>\n",
              "      <td>1.0</td>\n",
              "      <td>1.0</td>\n",
              "      <td>0.0</td>\n",
              "      <td>1.0</td>\n",
              "      <td>2.0</td>\n",
              "      <td>260.0</td>\n",
              "    </tr>\n",
              "  </tbody>\n",
              "</table>\n",
              "<p>972 rows × 13 columns</p>\n",
              "</div>"
            ],
            "text/plain": [
              "        Zipcode  Square Feet  Bedrooms  ...  Prop_encoded  cancel_encoded  Price\n",
              "0       78704.0        500.0       1.0  ...           1.0             2.0   85.0\n",
              "22      78746.0       2800.0       4.0  ...           1.0             2.0  499.0\n",
              "108     78741.0       1600.0       1.0  ...           1.0             0.0  450.0\n",
              "109     78722.0        900.0       1.0  ...           1.0             2.0  150.0\n",
              "122     78702.0       2700.0       3.0  ...           1.0             2.0  275.0\n",
              "...         ...          ...       ...  ...           ...             ...    ...\n",
              "120258  78704.0       1810.0       3.0  ...           1.0             0.0  499.0\n",
              "120281  78704.0       2100.0       4.0  ...           1.0             2.0  800.0\n",
              "120466  78701.0       1094.0       2.0  ...           1.0             2.0  899.0\n",
              "120500  78722.0        600.0       1.0  ...           1.0             2.0   79.0\n",
              "120781  78704.0       1532.0       2.0  ...           1.0             2.0  260.0\n",
              "\n",
              "[972 rows x 13 columns]"
            ]
          },
          "metadata": {
            "tags": []
          },
          "execution_count": 12
        }
      ]
    },
    {
      "cell_type": "code",
      "metadata": {
        "id": "AiozEYEvYIVm",
        "colab_type": "code",
        "colab": {
          "base_uri": "https://localhost:8080/",
          "height": 357
        },
        "outputId": "3a91e797-0c84-4f2d-a940-f68bb20d703c"
      },
      "source": [
        "df.info()"
      ],
      "execution_count": null,
      "outputs": [
        {
          "output_type": "stream",
          "text": [
            "<class 'pandas.core.frame.DataFrame'>\n",
            "Int64Index: 972 entries, 0 to 120781\n",
            "Data columns (total 13 columns):\n",
            " #   Column                Non-Null Count  Dtype  \n",
            "---  ------                --------------  -----  \n",
            " 0   Zipcode               972 non-null    float64\n",
            " 1   Square Feet           972 non-null    float64\n",
            " 2   Bedrooms              972 non-null    float64\n",
            " 3   Bathrooms             972 non-null    float64\n",
            " 4   Review Scores Rating  972 non-null    float64\n",
            " 5   Accommodates          972 non-null    float64\n",
            " 6   Cleaning Fee          972 non-null    float64\n",
            " 7   Free Parking          972 non-null    float64\n",
            " 8   Wireless Internet     972 non-null    float64\n",
            " 9   Cable TV              972 non-null    float64\n",
            " 10  Prop_encoded          972 non-null    float64\n",
            " 11  cancel_encoded        972 non-null    float64\n",
            " 12  Price                 972 non-null    float64\n",
            "dtypes: float64(13)\n",
            "memory usage: 106.3 KB\n"
          ],
          "name": "stdout"
        }
      ]
    },
    {
      "cell_type": "code",
      "metadata": {
        "id": "ZWEPxFVsZpBz",
        "colab_type": "code",
        "colab": {
          "base_uri": "https://localhost:8080/",
          "height": 333
        },
        "outputId": "33952c70-ecad-46a9-c903-e20cfa6ccad0"
      },
      "source": [
        "# is the target symmetric - it is skewed right\n",
        "%matplotlib inline\n",
        "import seaborn as sns\n",
        "sns.distplot(df['Price']);"
      ],
      "execution_count": null,
      "outputs": [
        {
          "output_type": "stream",
          "text": [
            "/usr/local/lib/python3.6/dist-packages/statsmodels/tools/_testing.py:19: FutureWarning: pandas.util.testing is deprecated. Use the functions in the public API at pandas.testing instead.\n",
            "  import pandas.util.testing as tm\n"
          ],
          "name": "stderr"
        },
        {
          "output_type": "display_data",
          "data": {
            "image/png": "[encoded data removed]",
            "text/plain": [
              "<Figure size 432x288 with 1 Axes>"
            ]
          },
          "metadata": {
            "tags": [],
            "needs_background": "light"
          }
        }
      ]
    },
    {
      "cell_type": "code",
      "metadata": {
        "id": "6xkDQ1o9e6R6",
        "colab_type": "code",
        "colab": {
          "base_uri": "https://localhost:8080/",
          "height": 170
        },
        "outputId": "36e8e158-fb37-49d9-a7e8-3d31a77b2b4c"
      },
      "source": [
        "pd.options.display.float_format = '{:,.0f}'.format\n",
        "df['Price'].describe()"
      ],
      "execution_count": 21,
      "outputs": [
        {
          "output_type": "execute_result",
          "data": {
            "text/plain": [
              "count   972\n",
              "mean    200\n",
              "std     159\n",
              "min      20\n",
              "25%      99\n",
              "50%     148\n",
              "75%     245\n",
              "max     995\n",
              "Name: Price, dtype: float64"
            ]
          },
          "metadata": {
            "tags": []
          },
          "execution_count": 21
        }
      ]
    },
    {
      "cell_type": "markdown",
      "metadata": {
        "id": "Mcv8cvVWfHX5",
        "colab_type": "text"
      },
      "source": [
        "### Mean Baseline"
      ]
    },
    {
      "cell_type": "code",
      "metadata": {
        "id": "QlBVfF5ufJ1I",
        "colab_type": "code",
        "colab": {}
      },
      "source": [
        "guess = df['Price'].mean()"
      ],
      "execution_count": 22,
      "outputs": []
    },
    {
      "cell_type": "code",
      "metadata": {
        "id": "-iXOGVryfOjM",
        "colab_type": "code",
        "colab": {
          "base_uri": "https://localhost:8080/",
          "height": 34
        },
        "outputId": "c962b391-fd1c-431a-b69b-6da8232208e0"
      },
      "source": [
        "guess"
      ],
      "execution_count": 23,
      "outputs": [
        {
          "output_type": "execute_result",
          "data": {
            "text/plain": [
              "199.92078189300412"
            ]
          },
          "metadata": {
            "tags": []
          },
          "execution_count": 23
        }
      ]
    },
    {
      "cell_type": "code",
      "metadata": {
        "id": "dypEfSAufQl0",
        "colab_type": "code",
        "colab": {}
      },
      "source": [
        "errors = guess - df['Price']"
      ],
      "execution_count": 24,
      "outputs": []
    },
    {
      "cell_type": "code",
      "metadata": {
        "id": "JjB1bbPNfURe",
        "colab_type": "code",
        "colab": {
          "base_uri": "https://localhost:8080/",
          "height": 221
        },
        "outputId": "f889e075-910b-4817-bf55-d336a83837f8"
      },
      "source": [
        "errors"
      ],
      "execution_count": 25,
      "outputs": [
        {
          "output_type": "execute_result",
          "data": {
            "text/plain": [
              "0      115\n",
              "1     -299\n",
              "2     -250\n",
              "3       50\n",
              "4      -75\n",
              "      ... \n",
              "967   -299\n",
              "968   -600\n",
              "969   -699\n",
              "970    121\n",
              "971    -60\n",
              "Name: Price, Length: 972, dtype: float64"
            ]
          },
          "metadata": {
            "tags": []
          },
          "execution_count": 25
        }
      ]
    },
    {
      "cell_type": "code",
      "metadata": {
        "id": "vd6c3gExfX-5",
        "colab_type": "code",
        "colab": {}
      },
      "source": [
        "mean_absolute_error = errors.abs().mean()"
      ],
      "execution_count": 26,
      "outputs": []
    },
    {
      "cell_type": "code",
      "metadata": {
        "id": "gM8N1Pwpfaz1",
        "colab_type": "code",
        "colab": {
          "base_uri": "https://localhost:8080/",
          "height": 51
        },
        "outputId": "820f5175-2e71-444b-d3f9-84ca284b70ba"
      },
      "source": [
        "print(f'If we just guessed every Airbnb cost ${guess:,.0f},')\n",
        "print(f'we would be off by ${mean_absolute_error:,.0f} on average.')"
      ],
      "execution_count": 27,
      "outputs": [
        {
          "output_type": "stream",
          "text": [
            "If we just guessed every Airbnb cost $200,\n",
            "we would be off by $113 on average.\n"
          ],
          "name": "stdout"
        }
      ]
    },
    {
      "cell_type": "markdown",
      "metadata": {
        "id": "gYB_V-vXkChY",
        "colab_type": "text"
      },
      "source": [
        "### Set features / Target"
      ]
    },
    {
      "cell_type": "code",
      "metadata": {
        "id": "mt-zU8GwkGjU",
        "colab_type": "code",
        "colab": {}
      },
      "source": [
        "from sklearn.model_selection import train_test_split\n",
        "train, test= train_test_split(df, test_size=0.20)\n",
        "\n",
        "# Arrange data into X features matrix and y target vector\n",
        "features = ['Zipcode', 'Square Feet', 'Bedrooms', 'Bathrooms', 'Review Scores Rating', 'Accommodates', 'Cleaning Fee', 'Free Parking', 'Wireless Internet', 'Cable TV', 'Prop_encoded', 'cancel_encoded']\n",
        "target = 'Price'\n",
        "X_train = train[features]\n",
        "y_train = train[target]\n",
        "X_test = test[features]\n",
        "y_test = test[target]"
      ],
      "execution_count": 32,
      "outputs": []
    },
    {
      "cell_type": "code",
      "metadata": {
        "id": "zfwcs0AfkPFr",
        "colab_type": "code",
        "colab": {
          "base_uri": "https://localhost:8080/",
          "height": 221
        },
        "outputId": "4a967532-c4be-488f-c176-6ecb29406bf8"
      },
      "source": [
        "list(X_train)"
      ],
      "execution_count": 33,
      "outputs": [
        {
          "output_type": "execute_result",
          "data": {
            "text/plain": [
              "['Zipcode',\n",
              " 'Square Feet',\n",
              " 'Bedrooms',\n",
              " 'Bathrooms',\n",
              " 'Review Scores Rating',\n",
              " 'Accommodates',\n",
              " 'Cleaning Fee',\n",
              " 'Free Parking',\n",
              " 'Wireless Internet',\n",
              " 'Cable TV',\n",
              " 'Prop_encoded',\n",
              " 'cancel_encoded']"
            ]
          },
          "metadata": {
            "tags": []
          },
          "execution_count": 33
        }
      ]
    },
    {
      "cell_type": "code",
      "metadata": {
        "id": "fxZi8zc-kUw2",
        "colab_type": "code",
        "colab": {}
      },
      "source": [
        "# Predict the price of the Tesla Model S\n",
        "Zipcode = 78704\n",
        "Square_Feet = 2000\n",
        "Bedrooms = 3\n",
        "Bathrooms = 2\n",
        "Review_Scores_Rating = 4.8\n",
        "Accommodates = 3\n",
        "Cleaning_Fee = 200\n",
        "Free_Parking = 1\n",
        "Wireless_Internet = 1\n",
        "Cable_TV = 1\n",
        "Prop_encoded = 1\n",
        "cancel_encoded = 2"
      ],
      "execution_count": 37,
      "outputs": []
    },
    {
      "cell_type": "code",
      "metadata": {
        "id": "qA8pr40pkrBk",
        "colab_type": "code",
        "colab": {}
      },
      "source": [
        "Price = model.predict([[Zipcode, Square_Feet, Bedrooms, Bathrooms, Review_Scores_Rating, Accommodates, Cleaning_Fee, Free_Parking, Wireless_Internet, Cable_TV, Prop_encoded, cancel_encoded]])"
      ],
      "execution_count": 38,
      "outputs": []
    },
    {
      "cell_type": "code",
      "metadata": {
        "id": "woSgLXPakt0v",
        "colab_type": "code",
        "colab": {
          "base_uri": "https://localhost:8080/",
          "height": 34
        },
        "outputId": "b9c5ab34-329b-4f26-9c9b-fbcb01264354"
      },
      "source": [
        "print(\"This Airbnb should be priced at :$\",Price)"
      ],
      "execution_count": 39,
      "outputs": [
        {
          "output_type": "stream",
          "text": [
            "This Airbnb should be priced at :$ [212.30964052]\n"
          ],
          "name": "stdout"
        }
      ]
    },
    {
      "cell_type": "markdown",
      "metadata": {
        "id": "r_mrFaVKnBbH",
        "colab_type": "text"
      },
      "source": [
        ""
      ]
    },
    {
      "cell_type": "markdown",
      "metadata": {
        "id": "_dP8ll0xgxY4",
        "colab_type": "text"
      },
      "source": [
        "### Linear Regression"
      ]
    },
    {
      "cell_type": "code",
      "metadata": {
        "id": "dxhVllBuckwR",
        "colab_type": "code",
        "colab": {
          "base_uri": "https://localhost:8080/",
          "height": 34
        },
        "outputId": "29975c48-70f5-417d-fe64-d62fb40a6e63"
      },
      "source": [
        "from sklearn.linear_model import LinearRegression\n",
        "from sklearn.metrics import mean_absolute_error, mean_squared_error, r2_score\n",
        "\n",
        "model = LinearRegression()\n",
        "model.fit(X_train, y_train)"
      ],
      "execution_count": null,
      "outputs": [
        {
          "output_type": "execute_result",
          "data": {
            "text/plain": [
              "LinearRegression(copy_X=True, fit_intercept=True, n_jobs=None, normalize=False)"
            ]
          },
          "metadata": {
            "tags": []
          },
          "execution_count": 16
        }
      ]
    },
    {
      "cell_type": "code",
      "metadata": {
        "id": "zNKZF3lNctQL",
        "colab_type": "code",
        "colab": {
          "base_uri": "https://localhost:8080/",
          "height": 34
        },
        "outputId": "9cb4a3ee-d0c1-4ae2-d14a-66081d328fc9"
      },
      "source": [
        "y_pred_train = model.predict(X_train)\n",
        "print(\"MAE(Train):$\",mean_absolute_error(y_train, y_pred_train))"
      ],
      "execution_count": null,
      "outputs": [
        {
          "output_type": "stream",
          "text": [
            "MAE(Train):$ 65.94651085150686\n"
          ],
          "name": "stdout"
        }
      ]
    },
    {
      "cell_type": "code",
      "metadata": {
        "id": "32KOCwOGc0BC",
        "colab_type": "code",
        "colab": {
          "base_uri": "https://localhost:8080/",
          "height": 34
        },
        "outputId": "4c9e9c64-4a25-422d-a788-31da28efcb85"
      },
      "source": [
        "r2_base = r2_score(y_train, y_pred_train)\n",
        "print('R^2 scores (Train):',r2_base)"
      ],
      "execution_count": null,
      "outputs": [
        {
          "output_type": "stream",
          "text": [
            "R^2 scores (Train): 0.5910608128990152\n"
          ],
          "name": "stdout"
        }
      ]
    },
    {
      "cell_type": "markdown",
      "metadata": {
        "id": "THKdGPGpg7Ph",
        "colab_type": "text"
      },
      "source": [
        "### Random Forest"
      ]
    },
    {
      "cell_type": "code",
      "metadata": {
        "id": "Avr2j0O2dZ-w",
        "colab_type": "code",
        "colab": {}
      },
      "source": [
        "from scipy.stats import randint, uniform\n",
        "from sklearn.ensemble import RandomForestRegressor\n",
        "from sklearn.model_selection import RandomizedSearchCV"
      ],
      "execution_count": 29,
      "outputs": []
    },
    {
      "cell_type": "code",
      "metadata": {
        "id": "c6M-UcAJdcJw",
        "colab_type": "code",
        "colab": {}
      },
      "source": [
        "param_distributions = {'bootstrap': [True, False],\n",
        " 'max_depth': [10, 20, 30, 40, 50, 60, 70, 80, 90, 100, None],\n",
        " 'max_features': ['auto', 'sqrt'],\n",
        " 'min_samples_leaf': [1, 2, 4],\n",
        " 'min_samples_split': [2, 5, 10],\n",
        " 'n_estimators': [200, 400, 600, 800, 1000, 1200, 1400, 1600, 1800, 2000]}\n",
        "search = RandomizedSearchCV(\n",
        "    RandomForestRegressor(random_state=42), \n",
        "    param_distributions=param_distributions, \n",
        "    n_iter=50, \n",
        "    cv=5, \n",
        "    scoring='neg_mean_absolute_error', \n",
        "    verbose=50, \n",
        "    return_train_score=True, \n",
        "    n_jobs=-1, \n",
        "    random_state=42)\n",
        "search.fit(X_train, y_train);"
      ],
      "execution_count": null,
      "outputs": []
    },
    {
      "cell_type": "code",
      "metadata": {
        "id": "rU8I36h0eDpU",
        "colab_type": "code",
        "colab": {}
      },
      "source": [
        "print('Best hyperparameters', search.best_params_)\n",
        "print('Cross-validation MAE', -search.best_score_)\n",
        "model = search.best_estimator_"
      ],
      "execution_count": null,
      "outputs": []
    },
    {
      "cell_type": "code",
      "metadata": {
        "id": "n3GJwS1ceWow",
        "colab_type": "code",
        "colab": {}
      },
      "source": [
        "row = X_train.iloc[[1]]\n",
        "row"
      ],
      "execution_count": null,
      "outputs": []
    },
    {
      "cell_type": "code",
      "metadata": {
        "id": "bOxlAxpEeh83",
        "colab_type": "code",
        "colab": {}
      },
      "source": [
        "#What does the model predict for this Temperature\n",
        "model.predict(row)"
      ],
      "execution_count": null,
      "outputs": []
    }
  ]
}